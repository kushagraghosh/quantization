{
  "nbformat": 4,
  "nbformat_minor": 0,
  "metadata": {
    "colab": {
      "provenance": [],
      "gpuType": "T4"
    },
    "kernelspec": {
      "name": "python3",
      "display_name": "Python 3"
    },
    "language_info": {
      "name": "python"
    },
    "accelerator": "GPU"
  },
  "cells": [
    {
      "cell_type": "markdown",
      "source": [
        "# 0 Download the dataset"
      ],
      "metadata": {
        "id": "9c-6qY7PZ9Lj"
      }
    },
    {
      "cell_type": "code",
      "source": [
        "import os\n",
        "import yaml\n",
        "import gdown\n",
        "import zipfile\n",
        "import shutil\n",
        "\n",
        "\n",
        "def download_and_unzip(zip_url, output_folder='./Dataset',  folders_to_delete=None):\n",
        "    # Extract the Google Drive ID from the URL\n",
        "    file_id = zip_url.split('/')[-2]\n",
        "    download_url = f\"https://drive.google.com/uc?id={file_id}\"\n",
        "\n",
        "    # Check if download URL has public permissions set\n",
        "    try:\n",
        "        zip_file = \"downloaded_zip_file.zip\"\n",
        "        gdown.download(download_url, zip_file, quiet=False)\n",
        "\n",
        "        # Create output folder if it doesn't exist\n",
        "        if not os.path.exists(output_folder):\n",
        "            os.makedirs(output_folder)\n",
        "\n",
        "        # Unzip the downloaded file\n",
        "        with zipfile.ZipFile(zip_file, 'r') as zip_ref:\n",
        "            zip_ref.extractall(output_folder)\n",
        "\n",
        "        print(f\"Files extracted to '{output_folder}'\")\n",
        "\n",
        "        # Clean up the downloaded zip file\n",
        "        os.remove(zip_file)\n",
        "\n",
        "        # Clean up the Dataset folder\n",
        "        if folders_to_delete:\n",
        "            for folder in folders_to_delete:\n",
        "                folder_path = os.path.join(output_folder, folder)\n",
        "                if os.path.exists(folder_path) and os.path.isdir(folder_path):\n",
        "                    shutil.rmtree(folder_path)\n",
        "                    print(f\"Deleted folder: {folder_path}\")\n",
        "                else:\n",
        "                    print(f\"Folder not found or not a directory: {folder_path}\")\n",
        "\n",
        "        # Load the existing data.yaml file\n",
        "        data_yaml_path = './Dataset/data.yaml'\n",
        "        with open(data_yaml_path, 'r') as file:\n",
        "            data_config = yaml.safe_load(file)\n",
        "\n",
        "        # Update paths to be relative\n",
        "        data_config['train'] = './images/train'\n",
        "        data_config['val'] = './images/val'\n",
        "        data_config['test'] = './images/test'\n",
        "\n",
        "        # Write the updated content back to the data.yaml file with proper formatting for arrays\n",
        "        with open(data_yaml_path, 'w') as file:\n",
        "            yaml.dump(data_config, file, default_flow_style=None, sort_keys=False)\n",
        "\n",
        "        print(f\"Updated '{data_yaml_path}' with relative paths.\")\n",
        "\n",
        "    except gdown.exceptions.FileURLRetrievalError as e:\n",
        "        print(\"Failed to retrieve file url. Please check the permissions on Google Drive and try again.\")\n",
        "        print(e)\n",
        "\n",
        "# Example usage:\n",
        "zip_url = \"https://drive.google.com/file/d/1UknFvrQTOlIAxhkf3CHvbaSSsHru-fPP/view?usp=sharing\"\n",
        "download_and_unzip(zip_url, folders_to_delete=['.config', '.ipynb_checkpoints'])\n"
      ],
      "metadata": {
        "colab": {
          "base_uri": "https://localhost:8080/"
        },
        "id": "Kd02LRjIo8DQ",
        "outputId": "0b54c735-7aee-42c3-c398-992c475a51bb"
      },
      "execution_count": null,
      "outputs": [
        {
          "output_type": "stream",
          "name": "stderr",
          "text": [
            "Downloading...\n",
            "From (original): https://drive.google.com/uc?id=1UknFvrQTOlIAxhkf3CHvbaSSsHru-fPP\n",
            "From (redirected): https://drive.google.com/uc?id=1UknFvrQTOlIAxhkf3CHvbaSSsHru-fPP&confirm=t&uuid=be6f545b-df84-4400-8ffb-8c3237972fd5\n",
            "To: /content/downloaded_zip_file.zip\n",
            "100%|██████████| 154M/154M [00:01<00:00, 82.9MB/s]\n"
          ]
        },
        {
          "output_type": "stream",
          "name": "stdout",
          "text": [
            "Files extracted to './Dataset'\n",
            "Deleted folder: ./Dataset/.config\n",
            "Deleted folder: ./Dataset/.ipynb_checkpoints\n",
            "Updated './Dataset/data.yaml' with relative paths.\n"
          ]
        }
      ]
    },
    {
      "cell_type": "markdown",
      "source": [
        "# 1 Evaluating baseline finetuned model"
      ],
      "metadata": {
        "id": "v2ikN2rCofxs"
      }
    },
    {
      "cell_type": "code",
      "execution_count": null,
      "metadata": {
        "colab": {
          "base_uri": "https://localhost:8080/"
        },
        "id": "JVHbAq3jnrMJ",
        "outputId": "26403982-5291-42f2-ce71-027c7f8d2166"
      },
      "outputs": [
        {
          "output_type": "stream",
          "name": "stderr",
          "text": [
            "<ipython-input-12-49c93ee65865>:56: FutureWarning: You are using `torch.load` with `weights_only=False` (the current default value), which uses the default pickle module implicitly. It is possible to construct malicious pickle data which will execute arbitrary code during unpickling (See https://github.com/pytorch/pytorch/blob/main/SECURITY.md#untrusted-models for more details). In a future release, the default value for `weights_only` will be flipped to `True`. This limits the functions that could be executed during unpickling. Arbitrary objects will no longer be allowed to be loaded via this mode unless they are explicitly allowlisted by the user via `torch.serialization.add_safe_globals`. We recommend you start setting `weights_only=True` for any use case where you don't have full control of the loaded file. Please open an issue on GitHub for any issues related to this experimental feature.\n",
            "  state_dict = torch.load(\"resnet18_finetuned.pt\")\n",
            "100%|██████████| 47/47 [00:07<00:00,  6.35it/s]"
          ]
        },
        {
          "output_type": "stream",
          "name": "stdout",
          "text": [
            "203.0 examples/second\n",
            "Test Accuracy: 99.80%\n"
          ]
        },
        {
          "output_type": "stream",
          "name": "stderr",
          "text": [
            "\n"
          ]
        }
      ],
      "source": [
        "import torch\n",
        "import torch.nn as nn\n",
        "from torchvision import transforms\n",
        "from torch.utils.data import DataLoader, Dataset\n",
        "from torchvision.models import resnet18, ResNet18_Weights\n",
        "from PIL import Image\n",
        "import os\n",
        "from tqdm import tqdm\n",
        "import time\n",
        "\n",
        "# Define a custom model class to include the forward method\n",
        "class FineTunedResNet18(nn.Module):\n",
        "    def __init__(self, num_classes):\n",
        "        super(FineTunedResNet18, self).__init__()\n",
        "        self.resnet18 = resnet18(weights = ResNet18_Weights.IMAGENET1K_V1)\n",
        "        # Modify the fully connected layer to match the number of classes\n",
        "        self.resnet18.fc = nn.Linear(self.resnet18.fc.in_features, num_classes)\n",
        "\n",
        "    def forward(self, x):\n",
        "        # Define the forward pass\n",
        "        return self.resnet18(x)\n",
        "\n",
        "# Custom Dataset\n",
        "class CustomDataset(Dataset):\n",
        "    def __init__(self, images_dir, labels_dir, transform=None):\n",
        "        self.images_dir = images_dir\n",
        "        self.labels_dir = labels_dir\n",
        "        self.transform = transform\n",
        "\n",
        "        # Get all image files in the images directory\n",
        "        self.image_files = sorted(os.listdir(images_dir))  # Sorting to align with labels\n",
        "        self.label_files = sorted(os.listdir(labels_dir))  # Sorting to align with images\n",
        "\n",
        "    def __len__(self):\n",
        "        return len(self.image_files)\n",
        "\n",
        "    def __getitem__(self, idx):\n",
        "        # Load image\n",
        "        img_path = os.path.join(self.images_dir, self.image_files[idx])\n",
        "        image = Image.open(img_path).convert('RGB')  # Convert to RGB if not already\n",
        "\n",
        "        # Load label\n",
        "        label_path = os.path.join(self.labels_dir, self.label_files[idx])\n",
        "        with open(label_path, 'r') as f:\n",
        "            label_idx = int(f.read().strip().split(\" \")[0])  # Read label from file\n",
        "\n",
        "        # Apply transformations if any\n",
        "        if self.transform:\n",
        "            image = self.transform(image)\n",
        "\n",
        "        return image, label_idx\n",
        "\n",
        "# Load the fine-tuned model\n",
        "device = torch.device(\"cuda\" if torch.cuda.is_available() else \"cpu\")\n",
        "model = FineTunedResNet18(29)\n",
        "state_dict = torch.load(\"resnet18_finetuned.pt\")\n",
        "model.load_state_dict(state_dict)\n",
        "model = model.to(device)\n",
        "\n",
        "transform = transforms.Compose([\n",
        "    transforms.Resize((224, 224)),\n",
        "    transforms.ToTensor()\n",
        "])\n",
        "test_dataset = CustomDataset(images_dir='Dataset/images/test', labels_dir='Dataset/labels/test', transform=transform)\n",
        "test_loader = DataLoader(test_dataset, batch_size=32, shuffle=False)\n",
        "\n",
        "# Evaluate the model\n",
        "model.eval()\n",
        "correct = 0\n",
        "total = 0\n",
        "\n",
        "with torch.no_grad():\n",
        "    start = time.time()\n",
        "    batches = 0\n",
        "    for images, labels in tqdm(test_loader):\n",
        "        batches += 1\n",
        "        images, labels = images.to(device), labels.to(device)\n",
        "        outputs = model(images)\n",
        "        _, predicted = torch.max(outputs, 1)\n",
        "        total += labels.size(0)\n",
        "        correct += (predicted == labels).sum().item()\n",
        "    end = time.time()\n",
        "    batch_size = 32\n",
        "    num_examples_per_second = batches * batch_size / (end - start)\n",
        "    print(\"%.1f examples/second\" % num_examples_per_second)\n",
        "\n",
        "accuracy = 100 * correct / total\n",
        "print(f\"Test Accuracy: {accuracy:.2f}%\")\n"
      ]
    },
    {
      "cell_type": "markdown",
      "source": [
        "# 2 AWQ"
      ],
      "metadata": {
        "id": "fmHE9npYoj2f"
      }
    },
    {
      "cell_type": "code",
      "source": [
        "class AWQFineTunedResNet18(FineTunedResNet18):\n",
        "    def __init__(self, num_classes):\n",
        "        super(AWQFineTunedResNet18, self).__init__(num_classes)\n",
        "        self.quant = torch.quantization.QuantStub()\n",
        "        self.dequant = torch.quantization.DeQuantStub()\n",
        "        self.skip_add = nn.quantized.FloatFunctional()\n",
        "\n",
        "    def _make_layer_quantized(self, x, layer):\n",
        "        identity = x\n",
        "\n",
        "        # First conv block\n",
        "        out = layer.conv1(x)\n",
        "        out = layer.bn1(out)\n",
        "        out = layer.relu(out)\n",
        "\n",
        "        # Second conv block\n",
        "        out = layer.conv2(out)\n",
        "        out = layer.bn2(out)\n",
        "\n",
        "        # Handle downsample\n",
        "        if hasattr(layer, 'downsample') and layer.downsample is not None:\n",
        "            identity = layer.downsample(x)\n",
        "\n",
        "        # Quantized addition\n",
        "        out = self.skip_add.add(out, identity)\n",
        "        out = layer.relu(out)\n",
        "        return out\n",
        "\n",
        "    def forward(self, x):\n",
        "        # Initial quantization\n",
        "        x = self.quant(x)\n",
        "\n",
        "        # Initial conv + pooling\n",
        "        x = self.resnet18.conv1(x)\n",
        "        x = self.resnet18.bn1(x)\n",
        "        x = self.resnet18.relu(x)\n",
        "        x = self.resnet18.maxpool(x)\n",
        "\n",
        "        # Layer blocks with quantized residual connections\n",
        "        for block in self.resnet18.layer1:\n",
        "            x = self._make_layer_quantized(x, block)\n",
        "        for block in self.resnet18.layer2:\n",
        "            x = self._make_layer_quantized(x, block)\n",
        "        for block in self.resnet18.layer3:\n",
        "            x = self._make_layer_quantized(x, block)\n",
        "        for block in self.resnet18.layer4:\n",
        "            x = self._make_layer_quantized(x, block)\n",
        "\n",
        "        x = self.resnet18.avgpool(x)\n",
        "        x = torch.flatten(x, 1)\n",
        "        x = self.resnet18.fc(x)\n",
        "\n",
        "        # Final dequantization\n",
        "        x = self.dequant(x)\n",
        "        return x"
      ],
      "metadata": {
        "id": "ADB0hQ8yP40b"
      },
      "execution_count": null,
      "outputs": []
    },
    {
      "cell_type": "code",
      "source": [
        "# Load the finetuned baseline model\n",
        "finetuned_model = FineTunedResNet18(num_classes=29)\n",
        "finetuned_state = torch.load('resnet18_finetuned.pt')\n",
        "finetuned_model.load_state_dict(finetuned_state)\n",
        "\n",
        "# Load the quantized model\n",
        "quantized_model = AWQFineTunedResNet18(num_classes=29)\n",
        "quantized_state = torch.load('resnet18_awq_quantized.pt')\n",
        "for key in quantized_state['model_state_dict']:\n",
        "    tensor = quantized_state['model_state_dict'][key]\n",
        "    if isinstance(tensor, torch.Tensor) and tensor.is_quantized:\n",
        "        quantized_state['model_state_dict'][key] = tensor.dequantize()\n",
        "\n",
        "quantized_model.load_state_dict(quantized_state['model_state_dict'], strict=False)"
      ],
      "metadata": {
        "colab": {
          "base_uri": "https://localhost:8080/"
        },
        "id": "IgieICNq7UE6",
        "outputId": "ae7ce057-8347-4178-e5eb-833714188f46"
      },
      "execution_count": null,
      "outputs": [
        {
          "output_type": "stream",
          "name": "stderr",
          "text": [
            "<ipython-input-16-2d0d81ba07e0>:3: FutureWarning: You are using `torch.load` with `weights_only=False` (the current default value), which uses the default pickle module implicitly. It is possible to construct malicious pickle data which will execute arbitrary code during unpickling (See https://github.com/pytorch/pytorch/blob/main/SECURITY.md#untrusted-models for more details). In a future release, the default value for `weights_only` will be flipped to `True`. This limits the functions that could be executed during unpickling. Arbitrary objects will no longer be allowed to be loaded via this mode unless they are explicitly allowlisted by the user via `torch.serialization.add_safe_globals`. We recommend you start setting `weights_only=True` for any use case where you don't have full control of the loaded file. Please open an issue on GitHub for any issues related to this experimental feature.\n",
            "  finetuned_state = torch.load('resnet18_finetuned.pt')\n",
            "<ipython-input-16-2d0d81ba07e0>:8: FutureWarning: You are using `torch.load` with `weights_only=False` (the current default value), which uses the default pickle module implicitly. It is possible to construct malicious pickle data which will execute arbitrary code during unpickling (See https://github.com/pytorch/pytorch/blob/main/SECURITY.md#untrusted-models for more details). In a future release, the default value for `weights_only` will be flipped to `True`. This limits the functions that could be executed during unpickling. Arbitrary objects will no longer be allowed to be loaded via this mode unless they are explicitly allowlisted by the user via `torch.serialization.add_safe_globals`. We recommend you start setting `weights_only=True` for any use case where you don't have full control of the loaded file. Please open an issue on GitHub for any issues related to this experimental feature.\n",
            "  quantized_state = torch.load('resnet18_awq_quantized.pt')\n",
            "/usr/local/lib/python3.10/dist-packages/torch/_utils.py:413: UserWarning: TypedStorage is deprecated. It will be removed in the future and UntypedStorage will be the only storage class. This should only matter to you if you are using storages directly.  To access UntypedStorage directly, use tensor.untyped_storage() instead of tensor.storage()\n",
            "  device=storage.device,\n"
          ]
        },
        {
          "output_type": "execute_result",
          "data": {
            "text/plain": [
              "_IncompatibleKeys(missing_keys=['resnet18.bn1.weight', 'resnet18.bn1.bias', 'resnet18.bn1.running_mean', 'resnet18.bn1.running_var', 'resnet18.fc.weight', 'resnet18.fc.bias'], unexpected_keys=['resnet18.conv1.bias', 'resnet18.conv1.scale', 'resnet18.conv1.zero_point', 'resnet18.layer1.0.conv1.bias', 'resnet18.layer1.0.conv1.scale', 'resnet18.layer1.0.conv1.zero_point', 'resnet18.layer1.0.bn1.scale', 'resnet18.layer1.0.bn1.zero_point', 'resnet18.layer1.0.conv2.bias', 'resnet18.layer1.0.conv2.scale', 'resnet18.layer1.0.conv2.zero_point', 'resnet18.layer1.0.bn2.scale', 'resnet18.layer1.0.bn2.zero_point', 'resnet18.layer1.1.conv1.bias', 'resnet18.layer1.1.conv1.scale', 'resnet18.layer1.1.conv1.zero_point', 'resnet18.layer1.1.bn1.scale', 'resnet18.layer1.1.bn1.zero_point', 'resnet18.layer1.1.conv2.bias', 'resnet18.layer1.1.conv2.scale', 'resnet18.layer1.1.conv2.zero_point', 'resnet18.layer1.1.bn2.scale', 'resnet18.layer1.1.bn2.zero_point', 'resnet18.layer2.0.conv1.bias', 'resnet18.layer2.0.conv1.scale', 'resnet18.layer2.0.conv1.zero_point', 'resnet18.layer2.0.bn1.scale', 'resnet18.layer2.0.bn1.zero_point', 'resnet18.layer2.0.conv2.bias', 'resnet18.layer2.0.conv2.scale', 'resnet18.layer2.0.conv2.zero_point', 'resnet18.layer2.0.bn2.scale', 'resnet18.layer2.0.bn2.zero_point', 'resnet18.layer2.0.downsample.0.bias', 'resnet18.layer2.0.downsample.0.scale', 'resnet18.layer2.0.downsample.0.zero_point', 'resnet18.layer2.0.downsample.1.scale', 'resnet18.layer2.0.downsample.1.zero_point', 'resnet18.layer2.1.conv1.bias', 'resnet18.layer2.1.conv1.scale', 'resnet18.layer2.1.conv1.zero_point', 'resnet18.layer2.1.bn1.scale', 'resnet18.layer2.1.bn1.zero_point', 'resnet18.layer2.1.conv2.bias', 'resnet18.layer2.1.conv2.scale', 'resnet18.layer2.1.conv2.zero_point', 'resnet18.layer2.1.bn2.scale', 'resnet18.layer2.1.bn2.zero_point', 'resnet18.layer3.0.conv1.bias', 'resnet18.layer3.0.conv1.scale', 'resnet18.layer3.0.conv1.zero_point', 'resnet18.layer3.0.bn1.scale', 'resnet18.layer3.0.bn1.zero_point', 'resnet18.layer3.0.conv2.bias', 'resnet18.layer3.0.conv2.scale', 'resnet18.layer3.0.conv2.zero_point', 'resnet18.layer3.0.bn2.scale', 'resnet18.layer3.0.bn2.zero_point', 'resnet18.layer3.0.downsample.0.bias', 'resnet18.layer3.0.downsample.0.scale', 'resnet18.layer3.0.downsample.0.zero_point', 'resnet18.layer3.0.downsample.1.scale', 'resnet18.layer3.0.downsample.1.zero_point', 'resnet18.layer3.1.conv1.bias', 'resnet18.layer3.1.conv1.scale', 'resnet18.layer3.1.conv1.zero_point', 'resnet18.layer3.1.bn1.scale', 'resnet18.layer3.1.bn1.zero_point', 'resnet18.layer3.1.conv2.bias', 'resnet18.layer3.1.conv2.scale', 'resnet18.layer3.1.conv2.zero_point', 'resnet18.layer3.1.bn2.scale', 'resnet18.layer3.1.bn2.zero_point', 'resnet18.layer4.0.conv1.bias', 'resnet18.layer4.0.conv1.scale', 'resnet18.layer4.0.conv1.zero_point', 'resnet18.layer4.0.bn1.scale', 'resnet18.layer4.0.bn1.zero_point', 'resnet18.layer4.0.conv2.bias', 'resnet18.layer4.0.conv2.scale', 'resnet18.layer4.0.conv2.zero_point', 'resnet18.layer4.0.bn2.scale', 'resnet18.layer4.0.bn2.zero_point', 'resnet18.layer4.0.downsample.0.bias', 'resnet18.layer4.0.downsample.0.scale', 'resnet18.layer4.0.downsample.0.zero_point', 'resnet18.layer4.0.downsample.1.scale', 'resnet18.layer4.0.downsample.1.zero_point', 'resnet18.layer4.1.conv1.bias', 'resnet18.layer4.1.conv1.scale', 'resnet18.layer4.1.conv1.zero_point', 'resnet18.layer4.1.bn1.scale', 'resnet18.layer4.1.bn1.zero_point', 'resnet18.layer4.1.conv2.bias', 'resnet18.layer4.1.conv2.scale', 'resnet18.layer4.1.conv2.zero_point', 'resnet18.layer4.1.bn2.scale', 'resnet18.layer4.1.bn2.zero_point', 'resnet18.fc.scale', 'resnet18.fc.zero_point', 'resnet18.fc._packed_params.dtype', 'resnet18.fc._packed_params._packed_params', 'quant.scale', 'quant.zero_point', 'skip_add.scale', 'skip_add.zero_point'])"
            ]
          },
          "metadata": {},
          "execution_count": 16
        }
      ]
    },
    {
      "cell_type": "code",
      "source": [
        "import matplotlib.pyplot as plt\n",
        "\n",
        "def plot_weight_histograms(finetuned_model, quantized_model):\n",
        "    # Extract weights from the first convolutional layer\n",
        "    finetuned_weights = finetuned_model.resnet18.conv1.weight.data.cpu().numpy().flatten()\n",
        "    quantized_weights = quantized_model.resnet18.conv1.weight.data.cpu().numpy().flatten()\n",
        "\n",
        "    # Calculate global min and max for the x-axis scale\n",
        "    global_min = min(finetuned_weights.min(), quantized_weights.min())\n",
        "    global_max = max(finetuned_weights.max(), quantized_weights.max())\n",
        "\n",
        "    # Plot histograms side-by-side\n",
        "    plt.figure(figsize=(12, 6))\n",
        "\n",
        "    # Finetuned model weights histogram\n",
        "    plt.subplot(1, 2, 1)\n",
        "    plt.hist(finetuned_weights, bins=50, alpha=0.7, color='blue')\n",
        "    plt.title(\"Finetuned Model Weights Distribution\")\n",
        "    plt.xlabel(\"Weight Value\")\n",
        "    plt.ylabel(\"Frequency\")\n",
        "    plt.xlim(finetuned_weights.min(), finetuned_weights.max())\n",
        "    plt.ylim(0, 6000)\n",
        "\n",
        "    # Quantized model weights histogram\n",
        "    plt.subplot(1, 2, 2)\n",
        "    plt.hist(quantized_weights, bins=50, alpha=0.7, color='orange')\n",
        "    plt.title(\"Quantized Model Weights Distribution\")\n",
        "    plt.xlabel(\"Weight Value\")\n",
        "    plt.ylabel(\"Frequency\")\n",
        "    plt.xlim(quantized_weights.min(), quantized_weights.max())\n",
        "    plt.ylim(0, 6000)\n",
        "\n",
        "    plt.tight_layout()\n",
        "    plt.show()\n",
        "    print(finetuned_weights.min())\n",
        "    print(finetuned_weights.max())\n",
        "    print(quantized_weights.min())\n",
        "    print(quantized_weights.max())\n",
        "\n",
        "plot_weight_histograms(finetuned_model, quantized_model)\n",
        "\n"
      ],
      "metadata": {
        "colab": {
          "base_uri": "https://localhost:8080/",
          "height": 193
        },
        "id": "xzsO1dZB7PC4",
        "outputId": "a8c185cf-3830-473d-f21a-0b9b7a59df0b"
      },
      "execution_count": null,
      "outputs": [
        {
          "output_type": "error",
          "ename": "NameError",
          "evalue": "name 'finetuned_model' is not defined",
          "traceback": [
            "\u001b[0;31m---------------------------------------------------------------------------\u001b[0m",
            "\u001b[0;31mNameError\u001b[0m                                 Traceback (most recent call last)",
            "\u001b[0;32m<ipython-input-14-b6f1fc2a9705>\u001b[0m in \u001b[0;36m<cell line: 40>\u001b[0;34m()\u001b[0m\n\u001b[1;32m     38\u001b[0m     \u001b[0mprint\u001b[0m\u001b[0;34m(\u001b[0m\u001b[0mquantized_weights\u001b[0m\u001b[0;34m.\u001b[0m\u001b[0mmax\u001b[0m\u001b[0;34m(\u001b[0m\u001b[0;34m)\u001b[0m\u001b[0;34m)\u001b[0m\u001b[0;34m\u001b[0m\u001b[0;34m\u001b[0m\u001b[0m\n\u001b[1;32m     39\u001b[0m \u001b[0;34m\u001b[0m\u001b[0m\n\u001b[0;32m---> 40\u001b[0;31m \u001b[0mplot_weight_histograms\u001b[0m\u001b[0;34m(\u001b[0m\u001b[0mfinetuned_model\u001b[0m\u001b[0;34m,\u001b[0m \u001b[0mquantized_model\u001b[0m\u001b[0;34m)\u001b[0m\u001b[0;34m\u001b[0m\u001b[0;34m\u001b[0m\u001b[0m\n\u001b[0m\u001b[1;32m     41\u001b[0m \u001b[0;34m\u001b[0m\u001b[0m\n",
            "\u001b[0;31mNameError\u001b[0m: name 'finetuned_model' is not defined"
          ]
        }
      ]
    },
    {
      "cell_type": "code",
      "source": [
        "def prepare_model_for_awq(model, calibration_loader, alpha=0.2, per_channel_scaling_factor=1.5):\n",
        "    device = torch.device(\"cuda\" if torch.cuda.is_available() else \"cpu\")\n",
        "    model = model.to(device)\n",
        "    model.eval()\n",
        "\n",
        "    # 1. Capture Activations Using Hooks\n",
        "    activations = {}\n",
        "    def save_activation(name):\n",
        "        def hook(module, input, output):\n",
        "            activations[name] = output.detach()\n",
        "        return hook\n",
        "\n",
        "    for name, layer in model.resnet18.named_modules():\n",
        "        if isinstance(layer, nn.Conv2d):\n",
        "            layer.register_forward_hook(save_activation(name))\n",
        "\n",
        "    # 2. Forward pass\n",
        "    calibration_loader = DataLoader(test_dataset, batch_size=32, shuffle=False)\n",
        "\n",
        "    with torch.no_grad():\n",
        "        for images, labels in calibration_loader:\n",
        "            images = images.to(device)\n",
        "            _ = model(images)\n",
        "            break\n",
        "\n",
        "    # 3. Analyze Activation Distributions\n",
        "    activation_stats = {}\n",
        "\n",
        "    for name, act in activations.items():\n",
        "        B, C, H, W = act.shape\n",
        "        per_channel_abs_mean = act.abs().mean(dim=[0,2,3])\n",
        "        activation_stats[name] = per_channel_abs_mean\n",
        "\n",
        "    # 4. Compute Per-Channel Scaling\n",
        "    for name, layer in model.resnet18.named_modules():\n",
        "        if isinstance(layer, nn.Conv2d) and name in activation_stats:\n",
        "            per_channel_abs_mean = activation_stats[name]\n",
        "            s_c = per_channel_abs_mean**alpha\n",
        "            s_c = s_c.clamp(min=1e-8)\n",
        "\n",
        "            s_c_reshaped = s_c.view(-1,1,1,1)\n",
        "            weights = layer.weight.data\n",
        "            layer.weight.data *= s_c_reshaped\n",
        "\n",
        "    # 5. Identify Outliers Per Channel\n",
        "    outliers = {}\n",
        "\n",
        "    for name, layer in model.resnet18.named_modules():\n",
        "        if isinstance(layer, nn.Conv2d):\n",
        "            weights = layer.weight.data\n",
        "            outlier_threshold = weights.abs().quantile(0.99).item()\n",
        "\n",
        "            outliers_mask = weights.abs() > outlier_threshold\n",
        "            outliers[name] = outliers_mask\n",
        "\n",
        "    # 6. Quantize Non-Outliers\n",
        "    for name, layer in model.resnet18.named_modules():\n",
        "        if name in outliers:\n",
        "            weights = layer.weight.data\n",
        "\n",
        "            # Extra scaling for salient weights\n",
        "            outlier_weights = weights[outliers[name]].float()\n",
        "            outlier_weights *= per_channel_scaling_factor\n",
        "            weights[outliers[name]] = outlier_weights\n",
        "\n",
        "            non_outliers = ~outliers[name]\n",
        "            non_outlier_weights = weights[non_outliers].float()\n",
        "\n",
        "            # Compute scale for quantization\n",
        "            w_min = non_outlier_weights.min().item()\n",
        "            w_max = non_outlier_weights.max().item()\n",
        "            scale = (w_max - w_min) / 255.0 if (w_max > w_min) else 1e-4\n",
        "\n",
        "            # Quantize\n",
        "            quantized_weights = torch.quantize_per_tensor(\n",
        "                non_outlier_weights, scale=scale, zero_point=0, dtype=torch.qint8\n",
        "            ).dequantize()\n",
        "\n",
        "            # weights[non_outliers] = quantized_weights.int_repr().to(dtype=torch.float)\n",
        "            weights[non_outliers] = quantized_weights\n",
        "\n",
        "    # Proceed with Quantization\n",
        "    model = model.to(\"cpu\")\n",
        "    model.qconfig = torch.quantization.get_default_qconfig('fbgemm')\n",
        "    torch.backends.quantized.engine = 'fbgemm'\n",
        "\n",
        "    torch.quantization.fuse_modules(\n",
        "        model.resnet18,\n",
        "        [['conv1', 'bn1', 'relu']],\n",
        "        inplace=True\n",
        "    )\n",
        "\n",
        "    torch.quantization.prepare(model, inplace=True)\n",
        "\n",
        "    # Calibration with data\n",
        "    with torch.no_grad():\n",
        "        for i, (data, _) in enumerate(calibration_loader):\n",
        "            model(data)\n",
        "            if i >= 100:  # Use more calibration batches\n",
        "                break\n",
        "\n",
        "    torch.quantization.convert(model, inplace=True)\n",
        "    return model"
      ],
      "metadata": {
        "id": "GxHOl56BOIBu"
      },
      "execution_count": null,
      "outputs": []
    },
    {
      "cell_type": "code",
      "source": [
        "import torch\n",
        "import torch.nn as nn\n",
        "from torch.utils.data import DataLoader\n",
        "from torchvision import transforms\n",
        "from PIL import Image\n",
        "import os\n",
        "import numpy as np\n",
        "\n",
        "device = torch.device('cpu')\n",
        "\n",
        "alphas = np.linspace(0.1, 0.3, 5)\n",
        "salient_scales = np.linspace(1.25, 2, 4)\n",
        "accuracies = {}\n",
        "\n",
        "best_model = AWQFineTunedResNet18(num_classes=29)\n",
        "best_accuracy = 0.0\n",
        "\n",
        "alphas = [0.2]\n",
        "salient_scales = [1.5]\n",
        "\n",
        "for salient_scale in salient_scales:\n",
        "    for alpha in alphas:\n",
        "        print(f'Alpha: {alpha}, Salient Scale: {salient_scale}')\n",
        "\n",
        "        model = AWQFineTunedResNet18(num_classes=29)\n",
        "\n",
        "        # Load pre-trained weights\n",
        "        state_dict = torch.load('resnet18_finetuned.pt', map_location=device)\n",
        "        model.load_state_dict(state_dict, strict=False)\n",
        "\n",
        "        # Data transformation\n",
        "        transform = transforms.Compose([\n",
        "            transforms.Resize((224, 224)),\n",
        "            transforms.ToTensor()\n",
        "        ])\n",
        "\n",
        "        # Create calibration dataset and loader\n",
        "        cal_dataset = CustomDataset(\n",
        "            images_dir='Dataset/images/val',\n",
        "            labels_dir='Dataset/labels/val',\n",
        "            transform=transform\n",
        "        )\n",
        "        calibration_loader = DataLoader(\n",
        "            cal_dataset,\n",
        "            batch_size=32,\n",
        "            shuffle=False\n",
        "        )\n",
        "\n",
        "        # Apply AWQ quantization preprocessing\n",
        "        model = prepare_model_for_awq(model, calibration_loader, alpha=alpha,\n",
        "                                      per_channel_scaling_factor=salient_scale)\n",
        "\n",
        "        # Evaluate the model\n",
        "        test_dataset = CustomDataset(\n",
        "            images_dir='Dataset/images/test',\n",
        "            labels_dir='Dataset/labels/test',\n",
        "            transform=transform\n",
        "        )\n",
        "        test_loader = DataLoader(\n",
        "            test_dataset,\n",
        "            batch_size=32,\n",
        "            shuffle=False\n",
        "        )\n",
        "\n",
        "        correct = 0\n",
        "        total = 0\n",
        "        model.eval()\n",
        "        with torch.no_grad():\n",
        "            start = time.time()\n",
        "            batches = 0\n",
        "            for data, labels in test_loader:\n",
        "                batches += 1\n",
        "                data, labels = data.to(device), labels.to(device)\n",
        "                outputs = model(data)\n",
        "                _, predicted = torch.max(outputs.data, 1)\n",
        "                total += labels.size(0)\n",
        "                correct += (predicted == labels).sum().item()\n",
        "            end = time.time()\n",
        "            batch_size = 32\n",
        "            num_examples_per_second = batches * batch_size / (end - start)\n",
        "            print(\"%.1f examples/second\" % num_examples_per_second)\n",
        "\n",
        "        accuracy = 100 * correct/total\n",
        "        print(f'Accuracy on test set: {accuracy}')\n",
        "        if (accuracy > best_accuracy):\n",
        "            best_model = model\n",
        "            best_accuracy = accuracy\n",
        "\n",
        "        accuracies[(alpha, salient_scale)] = accuracy\n",
        "\n",
        "\n",
        "# # Save the quantized model\n",
        "# torch.save({\n",
        "#     'model_state_dict': best_model.state_dict(),\n",
        "#     'accuracy': 100 * correct / total,\n",
        "# }, 'resnet18_best_awq_quantized.pt')\n",
        "# print(\"Best Model saved as resnet18_best_awq_quantized.pt\")\n"
      ],
      "metadata": {
        "colab": {
          "base_uri": "https://localhost:8080/"
        },
        "id": "cbdvIrGmPxi-",
        "outputId": "c050adbd-cf5a-4fa4-a044-a0f5befbad12"
      },
      "execution_count": null,
      "outputs": [
        {
          "output_type": "stream",
          "name": "stdout",
          "text": [
            "Alpha: 0.2, Salient Scale: 1.5\n"
          ]
        },
        {
          "output_type": "stream",
          "name": "stderr",
          "text": [
            "<ipython-input-4-bfce1f375f33>:28: FutureWarning: You are using `torch.load` with `weights_only=False` (the current default value), which uses the default pickle module implicitly. It is possible to construct malicious pickle data which will execute arbitrary code during unpickling (See https://github.com/pytorch/pytorch/blob/main/SECURITY.md#untrusted-models for more details). In a future release, the default value for `weights_only` will be flipped to `True`. This limits the functions that could be executed during unpickling. Arbitrary objects will no longer be allowed to be loaded via this mode unless they are explicitly allowlisted by the user via `torch.serialization.add_safe_globals`. We recommend you start setting `weights_only=True` for any use case where you don't have full control of the loaded file. Please open an issue on GitHub for any issues related to this experimental feature.\n",
            "  state_dict = torch.load('resnet18_finetuned.pt', map_location=device)\n",
            "/usr/local/lib/python3.10/dist-packages/torch/ao/quantization/observer.py:229: UserWarning: Please use quant_min and quant_max to specify the range for observers.                     reduce_range will be deprecated in a future release of PyTorch.\n",
            "  warnings.warn(\n"
          ]
        },
        {
          "output_type": "stream",
          "name": "stdout",
          "text": [
            "24.9 examples/second\n",
            "Accuracy on test set: 75.53333333333333\n"
          ]
        }
      ]
    },
    {
      "cell_type": "code",
      "source": [
        "device = torch.device(\"cuda\")\n",
        "print(device)\n",
        "model = model.to(device)\n",
        "\n",
        "transform = transforms.Compose([\n",
        "    transforms.Resize((224, 224)),\n",
        "    transforms.ToTensor()\n",
        "])\n",
        "test_dataset = CustomDataset(images_dir='Dataset/images/test', labels_dir='Dataset/labels/test', transform=transform)\n",
        "test_loader = DataLoader(test_dataset, batch_size=32, shuffle=False)\n",
        "\n",
        "# Evaluate the model\n",
        "model.eval()\n",
        "correct = 0\n",
        "total = 0\n",
        "\n",
        "with torch.no_grad():\n",
        "    start = time.time()\n",
        "    batches = 0\n",
        "    for images, labels in tqdm(test_loader):\n",
        "        batches += 1\n",
        "        images, labels = images.to(device), labels.to(device)\n",
        "        outputs = model(images)\n",
        "        _, predicted = torch.max(outputs, 1)\n",
        "        total += labels.size(0)\n",
        "        correct += (predicted == labels).sum().item()\n",
        "    end = time.time()\n",
        "    batch_size = 32\n",
        "    num_examples_per_second = batches * batch_size / (end - start)\n",
        "    print(\"%.1f examples/second\" % num_examples_per_second)\n",
        "\n",
        "accuracy = 100 * correct / total\n",
        "print(f\"Test Accuracy: {accuracy:.2f}%\")\n"
      ],
      "metadata": {
        "colab": {
          "base_uri": "https://localhost:8080/"
        },
        "id": "tTlgw0yPsv6Y",
        "outputId": "6a723469-58e8-409a-b27d-d37c7af14e23"
      },
      "execution_count": null,
      "outputs": [
        {
          "output_type": "stream",
          "name": "stdout",
          "text": [
            "cuda\n"
          ]
        },
        {
          "output_type": "stream",
          "name": "stderr",
          "text": [
            "\r  0%|          | 0/47 [00:00<?, ?it/s]"
          ]
        }
      ]
    },
    {
      "cell_type": "code",
      "source": [
        "import matplotlib.pyplot as plt\n",
        "from mpl_toolkits.mplot3d import Axes3D\n",
        "import numpy as np\n",
        "import seaborn as sns\n",
        "import pandas as pd\n",
        "\n",
        "alphas = np.linspace(0.1, 0.3, 5)\n",
        "salient_scales = np.linspace(1.25, 2, 4)\n",
        "accuracies = np.array([\n",
        "    [95.933, 68.600, 19.533, 9.733],\n",
        "    [92.000, 73.600, 24.533, 10.200],\n",
        "    [80.066, 75.533, 28.933, 11.266],\n",
        "    [58.266, 62.133, 28.933, 11.533],\n",
        "    [37.200, 46.533, 25.200, 9.2666]\n",
        "])\n",
        "\n",
        "\n",
        "X, Y = np.meshgrid(alphas, salient_scales)\n",
        "Z = accuracies.T  # Transpose if necessary to match dimensions\n",
        "\n",
        "df = pd.DataFrame(accuracies.T, index=salient_scales, columns=alphas)\n",
        "\n",
        "# Plot heatmap\n",
        "plt.figure(figsize=(5, 4))\n",
        "sns.heatmap(df, annot=True, fmt=\".1f\", cmap=\"viridis\", cbar_kws={'label': 'Accuracy (%)'})\n",
        "plt.title(\"Hyperparameters vs. Model Accuracy\")\n",
        "plt.xlabel(\"Alpha\")\n",
        "plt.ylabel(\"Salient Scale\")"
      ],
      "metadata": {
        "id": "dgZ-EkeRjwL0",
        "colab": {
          "base_uri": "https://localhost:8080/",
          "height": 427
        },
        "outputId": "1d8da68e-b3e7-48c6-926c-9e73ed63d43d"
      },
      "execution_count": null,
      "outputs": [
        {
          "output_type": "execute_result",
          "data": {
            "text/plain": [
              "Text(33.22222222222222, 0.5, 'Salient Scale')"
            ]
          },
          "metadata": {},
          "execution_count": 10
        },
        {
          "output_type": "display_data",
          "data": {
            "text/plain": [
              "<Figure size 500x400 with 2 Axes>"
            ],
            "image/png": "[encoded data removed]"
          },
          "metadata": {}
        }
      ]
    }
  ]
}